{
 "cells": [
  {
   "cell_type": "markdown",
   "id": "3aaf2e17",
   "metadata": {},
   "source": [
    "# Gnod lab"
   ]
  },
  {
   "cell_type": "markdown",
   "id": "d494fcdb",
   "metadata": {},
   "source": [
    "## Morning lab"
   ]
  },
  {
   "cell_type": "code",
   "execution_count": 7,
   "id": "5f0b868a",
   "metadata": {},
   "outputs": [],
   "source": [
    "from bs4 import BeautifulSoup\n",
    "import requests\n",
    "import pandas as pd\n",
    "import random\n",
    "from time import sleep"
   ]
  },
  {
   "cell_type": "code",
   "execution_count": 2,
   "id": "005932ed",
   "metadata": {},
   "outputs": [],
   "source": [
    "url = \"https://www.billboard.com/charts/hot-100/\""
   ]
  },
  {
   "cell_type": "code",
   "execution_count": 3,
   "id": "cf4e2cb5",
   "metadata": {},
   "outputs": [
    {
     "data": {
      "text/plain": [
       "200"
      ]
     },
     "execution_count": 3,
     "metadata": {},
     "output_type": "execute_result"
    }
   ],
   "source": [
    "response = requests.get(url)\n",
    "response.status_code"
   ]
  },
  {
   "cell_type": "code",
   "execution_count": 4,
   "id": "7db18646",
   "metadata": {},
   "outputs": [],
   "source": [
    "soup = BeautifulSoup(response.content, \"html.parser\")"
   ]
  },
  {
   "cell_type": "code",
   "execution_count": 1,
   "id": "0ef0dff3",
   "metadata": {},
   "outputs": [],
   "source": [
    "soup.select(\"#post-1479786 > div.pmc-paywall > div > div > div > div.chart-results-list.\\/\\/.lrv-u-padding-t-150.lrv-u-padding-t-050\\@mobile-max > div:nth-child(2) > ul > li.lrv-u-width-100p > ul > li.o-chart-results-list__item.\\/\\/.lrv-u-flex-grow-1.lrv-u-flex.lrv-u-flex-direction-column.lrv-u-justify-content-center.lrv-u-border-b-1.u-border-b-0\\@mobile-max.lrv-u-border-color-grey-light.lrv-u-padding-l-1\\@mobile-max\")"
   ]
  },
  {
   "cell_type": "code",
   "execution_count": 4,
   "id": "0967609a",
   "metadata": {},
   "outputs": [],
   "source": [
    "# all songs in top 100\n",
    "# soup.select(\"li.o-chart-results-list__item.\\/\\/.lrv-u-flex-grow-1.lrv-u-flex.lrv-u-flex-direction-column.lrv-u-justify-content-center.lrv-u-border-b-1.u-border-b-0\\@mobile-max.lrv-u-border-color-grey-light.lrv-u-padding-l-1\\@mobile-max\")"
   ]
  },
  {
   "cell_type": "code",
   "execution_count": 3,
   "id": "546e8ef7",
   "metadata": {},
   "outputs": [],
   "source": [
    "# all titles\n",
    "# soup.select(\"li.o-chart-results-list__item.\\/\\/.lrv-u-flex-grow-1.lrv-u-flex.lrv-u-flex-direction-column.lrv-u-justify-content-center.lrv-u-border-b-1.u-border-b-0\\@mobile-max.lrv-u-border-color-grey-light.lrv-u-padding-l-1\\@mobile-max h3\")"
   ]
  },
  {
   "cell_type": "code",
   "execution_count": 8,
   "id": "723fd20f",
   "metadata": {},
   "outputs": [
    {
     "data": {
      "text/plain": [
       "'\\nEasy On Me\\n'"
      ]
     },
     "execution_count": 8,
     "metadata": {},
     "output_type": "execute_result"
    }
   ],
   "source": [
    "soup.select(\"li.o-chart-results-list__item.\\/\\/.lrv-u-flex-grow-1.lrv-u-flex.lrv-u-flex-direction-column.lrv-u-justify-content-center.lrv-u-border-b-1.u-border-b-0\\@mobile-max.lrv-u-border-color-grey-light.lrv-u-padding-l-1\\@mobile-max h3\")[0].get_text()"
   ]
  },
  {
   "cell_type": "code",
   "execution_count": 9,
   "id": "2131afcc",
   "metadata": {},
   "outputs": [
    {
     "data": {
      "text/plain": [
       "'\\nAdele\\n'"
      ]
     },
     "execution_count": 9,
     "metadata": {},
     "output_type": "execute_result"
    }
   ],
   "source": [
    "# getting artist :\n",
    "soup.select(\"li.o-chart-results-list__item.\\/\\/.lrv-u-flex-grow-1.lrv-u-flex.lrv-u-flex-direction-column.lrv-u-justify-content-center.lrv-u-border-b-1.u-border-b-0\\@mobile-max.lrv-u-border-color-grey-light.lrv-u-padding-l-1\\@mobile-max span\")[0].get_text()"
   ]
  },
  {
   "cell_type": "code",
   "execution_count": 10,
   "id": "144037f1",
   "metadata": {},
   "outputs": [],
   "source": [
    "# making table\n",
    "title = []\n",
    "artist = []\n",
    "\n",
    "\n",
    "num_iter = len(soup.select(\"li.o-chart-results-list__item.\\/\\/.lrv-u-flex-grow-1.lrv-u-flex.lrv-u-flex-direction-column.lrv-u-justify-content-center.lrv-u-border-b-1.u-border-b-0\\@mobile-max.lrv-u-border-color-grey-light.lrv-u-padding-l-1\\@mobile-max h3\"))\n",
    "\n",
    "for i in range(num_iter):\n",
    "    title.append(soup.select(\"li.o-chart-results-list__item.\\/\\/.lrv-u-flex-grow-1.lrv-u-flex.lrv-u-flex-direction-column.lrv-u-justify-content-center.lrv-u-border-b-1.u-border-b-0\\@mobile-max.lrv-u-border-color-grey-light.lrv-u-padding-l-1\\@mobile-max h3\")[i].get_text())\n",
    "    artist.append(soup.select(\"li.o-chart-results-list__item.\\/\\/.lrv-u-flex-grow-1.lrv-u-flex.lrv-u-flex-direction-column.lrv-u-justify-content-center.lrv-u-border-b-1.u-border-b-0\\@mobile-max.lrv-u-border-color-grey-light.lrv-u-padding-l-1\\@mobile-max span\")[i].get_text())"
   ]
  },
  {
   "cell_type": "code",
   "execution_count": 11,
   "id": "a3c74b65",
   "metadata": {},
   "outputs": [],
   "source": [
    "top100 = pd.DataFrame({\"title\":title,\n",
    "                           \"artist\":artist,\n",
    "                      })"
   ]
  },
  {
   "cell_type": "code",
   "execution_count": 12,
   "id": "2f0b931d",
   "metadata": {},
   "outputs": [
    {
     "data": {
      "text/html": [
       "<div>\n",
       "<style scoped>\n",
       "    .dataframe tbody tr th:only-of-type {\n",
       "        vertical-align: middle;\n",
       "    }\n",
       "\n",
       "    .dataframe tbody tr th {\n",
       "        vertical-align: top;\n",
       "    }\n",
       "\n",
       "    .dataframe thead th {\n",
       "        text-align: right;\n",
       "    }\n",
       "</style>\n",
       "<table border=\"1\" class=\"dataframe\">\n",
       "  <thead>\n",
       "    <tr style=\"text-align: right;\">\n",
       "      <th></th>\n",
       "      <th>title</th>\n",
       "      <th>artist</th>\n",
       "    </tr>\n",
       "  </thead>\n",
       "  <tbody>\n",
       "    <tr>\n",
       "      <th>0</th>\n",
       "      <td>\\nEasy On Me\\n</td>\n",
       "      <td>\\nAdele\\n</td>\n",
       "    </tr>\n",
       "    <tr>\n",
       "      <th>1</th>\n",
       "      <td>\\nStay\\n</td>\n",
       "      <td>\\nThe Kid LAROI &amp; Justin Bieber\\n</td>\n",
       "    </tr>\n",
       "    <tr>\n",
       "      <th>2</th>\n",
       "      <td>\\nIndustry Baby\\n</td>\n",
       "      <td>\\nLil Nas X &amp; Jack Harlow\\n</td>\n",
       "    </tr>\n",
       "    <tr>\n",
       "      <th>3</th>\n",
       "      <td>\\nBad Habits\\n</td>\n",
       "      <td>\\nEd Sheeran\\n</td>\n",
       "    </tr>\n",
       "    <tr>\n",
       "      <th>4</th>\n",
       "      <td>\\nShivers\\n</td>\n",
       "      <td>\\nEd Sheeran\\n</td>\n",
       "    </tr>\n",
       "  </tbody>\n",
       "</table>\n",
       "</div>"
      ],
      "text/plain": [
       "               title                             artist\n",
       "0     \\nEasy On Me\\n                          \\nAdele\\n\n",
       "1           \\nStay\\n  \\nThe Kid LAROI & Justin Bieber\\n\n",
       "2  \\nIndustry Baby\\n        \\nLil Nas X & Jack Harlow\\n\n",
       "3     \\nBad Habits\\n                     \\nEd Sheeran\\n\n",
       "4        \\nShivers\\n                     \\nEd Sheeran\\n"
      ]
     },
     "execution_count": 12,
     "metadata": {},
     "output_type": "execute_result"
    }
   ],
   "source": [
    "top100.head()"
   ]
  },
  {
   "cell_type": "code",
   "execution_count": 13,
   "id": "32f96119",
   "metadata": {},
   "outputs": [],
   "source": [
    "title_c = []\n",
    "for item in title :\n",
    "    item = item.replace('\\n','')\n",
    "    title_c.append(item)\n",
    "    \n",
    "    \n",
    "        \n",
    "artist_c = []\n",
    "for item in artist :\n",
    "    item = item.replace('\\n','')\n",
    "    artist_c.append(item)\n",
    "    \n",
    "top100 = pd.DataFrame({\"title\":title_c,\n",
    "                        \"artist\":artist_c,\n",
    "                      })"
   ]
  },
  {
   "cell_type": "code",
   "execution_count": 14,
   "id": "a6518bde",
   "metadata": {},
   "outputs": [
    {
     "data": {
      "text/html": [
       "<div>\n",
       "<style scoped>\n",
       "    .dataframe tbody tr th:only-of-type {\n",
       "        vertical-align: middle;\n",
       "    }\n",
       "\n",
       "    .dataframe tbody tr th {\n",
       "        vertical-align: top;\n",
       "    }\n",
       "\n",
       "    .dataframe thead th {\n",
       "        text-align: right;\n",
       "    }\n",
       "</style>\n",
       "<table border=\"1\" class=\"dataframe\">\n",
       "  <thead>\n",
       "    <tr style=\"text-align: right;\">\n",
       "      <th></th>\n",
       "      <th>title</th>\n",
       "      <th>artist</th>\n",
       "    </tr>\n",
       "  </thead>\n",
       "  <tbody>\n",
       "    <tr>\n",
       "      <th>0</th>\n",
       "      <td>Easy On Me</td>\n",
       "      <td>Adele</td>\n",
       "    </tr>\n",
       "    <tr>\n",
       "      <th>1</th>\n",
       "      <td>Stay</td>\n",
       "      <td>The Kid LAROI &amp; Justin Bieber</td>\n",
       "    </tr>\n",
       "    <tr>\n",
       "      <th>2</th>\n",
       "      <td>Industry Baby</td>\n",
       "      <td>Lil Nas X &amp; Jack Harlow</td>\n",
       "    </tr>\n",
       "    <tr>\n",
       "      <th>3</th>\n",
       "      <td>Bad Habits</td>\n",
       "      <td>Ed Sheeran</td>\n",
       "    </tr>\n",
       "    <tr>\n",
       "      <th>4</th>\n",
       "      <td>Shivers</td>\n",
       "      <td>Ed Sheeran</td>\n",
       "    </tr>\n",
       "  </tbody>\n",
       "</table>\n",
       "</div>"
      ],
      "text/plain": [
       "           title                         artist\n",
       "0     Easy On Me                          Adele\n",
       "1           Stay  The Kid LAROI & Justin Bieber\n",
       "2  Industry Baby        Lil Nas X & Jack Harlow\n",
       "3     Bad Habits                     Ed Sheeran\n",
       "4        Shivers                     Ed Sheeran"
      ]
     },
     "execution_count": 14,
     "metadata": {},
     "output_type": "execute_result"
    }
   ],
   "source": [
    "top100.head()"
   ]
  },
  {
   "cell_type": "code",
   "execution_count": 15,
   "id": "165183c5",
   "metadata": {},
   "outputs": [
    {
     "data": {
      "text/plain": [
       "100"
      ]
     },
     "execution_count": 15,
     "metadata": {},
     "output_type": "execute_result"
    }
   ],
   "source": [
    "len(top100)"
   ]
  },
  {
   "cell_type": "markdown",
   "id": "15d4a2a8",
   "metadata": {},
   "source": [
    "## Afternoon lab"
   ]
  },
  {
   "cell_type": "code",
   "execution_count": 16,
   "id": "fdd690b8",
   "metadata": {},
   "outputs": [],
   "source": [
    "# adding France Top 100"
   ]
  },
  {
   "cell_type": "code",
   "execution_count": 17,
   "id": "aa31cda4",
   "metadata": {},
   "outputs": [],
   "source": [
    "#simpletable > tbody > tr:nth-child(1) > td.mp.text > div"
   ]
  },
  {
   "cell_type": "code",
   "execution_count": 18,
   "id": "ccf08c96",
   "metadata": {},
   "outputs": [],
   "source": [
    "url2 = \"https://kworb.net/charts/deezer/fr.html\""
   ]
  },
  {
   "cell_type": "code",
   "execution_count": 19,
   "id": "97796586",
   "metadata": {},
   "outputs": [
    {
     "data": {
      "text/plain": [
       "200"
      ]
     },
     "execution_count": 19,
     "metadata": {},
     "output_type": "execute_result"
    }
   ],
   "source": [
    "response2 = requests.get(url2)\n",
    "response2.status_code"
   ]
  },
  {
   "cell_type": "code",
   "execution_count": 20,
   "id": "9187a3fb",
   "metadata": {},
   "outputs": [],
   "source": [
    "soup2 = BeautifulSoup(response2.content, \"html.parser\")"
   ]
  },
  {
   "cell_type": "code",
   "execution_count": 21,
   "id": "d2e4a5a9",
   "metadata": {},
   "outputs": [
    {
     "data": {
      "text/plain": [
       "[<div>Orelsan - L'odeur de l'essence</div>]"
      ]
     },
     "execution_count": 21,
     "metadata": {},
     "output_type": "execute_result"
    }
   ],
   "source": [
    "soup2.select(\"#simpletable > tbody > tr:nth-child(1) > td.mp.text > div\")"
   ]
  },
  {
   "cell_type": "code",
   "execution_count": 5,
   "id": "0e930493",
   "metadata": {},
   "outputs": [],
   "source": [
    "# soup2.select(\"#simpletable > tbody\")"
   ]
  },
  {
   "cell_type": "code",
   "execution_count": 23,
   "id": "9cf35334",
   "metadata": {},
   "outputs": [],
   "source": [
    "new_table =[]\n",
    "\n",
    "for i in range(len(soup2.select(\"#simpletable > tbody div\"))) :\n",
    "    new_table.append(soup2.select(\"#simpletable > tbody div\")[i].get_text())"
   ]
  },
  {
   "cell_type": "code",
   "execution_count": 24,
   "id": "5f4b40bb",
   "metadata": {},
   "outputs": [],
   "source": [
    "title=[]\n",
    "artist=[]\n",
    "\n",
    "for i in new_table :\n",
    "    x, y = i.split(' - ')\n",
    "    artist.append(x)\n",
    "    title.append(y)\n",
    "    \n",
    "france_top100 = pd.DataFrame({\"title\":title, \"artist\":artist})"
   ]
  },
  {
   "cell_type": "markdown",
   "id": "8a88e332",
   "metadata": {},
   "source": [
    "### now I want to make a dataframe of all number-one hits for Italy in the 80's"
   ]
  },
  {
   "cell_type": "code",
   "execution_count": 91,
   "id": "2544bba9",
   "metadata": {},
   "outputs": [],
   "source": [
    "# not working now !!!!"
   ]
  },
  {
   "cell_type": "code",
   "execution_count": 74,
   "id": "ce0b702f",
   "metadata": {},
   "outputs": [
    {
     "name": "stdout",
     "output_type": "stream",
     "text": [
      "1980 200\n",
      "I will sleep for 4 second/s.\n",
      "1981 200\n",
      "I will sleep for 2 second/s.\n",
      "1982 200\n",
      "I will sleep for 4 second/s.\n",
      "1983 200\n",
      "I will sleep for 3 second/s.\n",
      "1984 200\n",
      "I will sleep for 3 second/s.\n",
      "1985 200\n",
      "I will sleep for 4 second/s.\n",
      "1986 200\n",
      "I will sleep for 4 second/s.\n",
      "1987 200\n",
      "I will sleep for 3 second/s.\n",
      "1988 200\n",
      "I will sleep for 3 second/s.\n",
      "1989 200\n",
      "I will sleep for 4 second/s.\n"
     ]
    }
   ],
   "source": [
    "eighties_soup =[]\n",
    "for i in range(10) :\n",
    "    url = \"https://www.hitparadeitalia.it/hp_yends/hpe198\"+str(i)+\".htm\"\n",
    "    response = requests.get(url)\n",
    "    print(\"198\"+str(i), response.status_code)\n",
    "    \n",
    "    soup = BeautifulSoup(response.content, \"html.parser\")\n",
    "    eighties_soup.append(soup.find(\"ol > li\"))\n",
    "    \n",
    "                  \n",
    "    wait_time = random.randint(1,4)\n",
    "    print(\"I will sleep for \" + str(wait_time) + \" second/s.\")\n",
    "    sleep(wait_time)                "
   ]
  },
  {
   "cell_type": "code",
   "execution_count": 86,
   "id": "167656fc",
   "metadata": {
    "scrolled": true
   },
   "outputs": [],
   "source": [
    "# eighties_soup"
   ]
  },
  {
   "cell_type": "code",
   "execution_count": 87,
   "id": "e45c09d9",
   "metadata": {},
   "outputs": [],
   "source": [
    "# eighties_soup[0].li"
   ]
  },
  {
   "cell_type": "code",
   "execution_count": 76,
   "id": "f981b7c9",
   "metadata": {},
   "outputs": [
    {
     "ename": "KeyError",
     "evalue": "0",
     "output_type": "error",
     "traceback": [
      "\u001b[0;31m---------------------------------------------------------------------------\u001b[0m",
      "\u001b[0;31mKeyError\u001b[0m                                  Traceback (most recent call last)",
      "\u001b[0;32m<ipython-input-76-a10845a5ae16>\u001b[0m in \u001b[0;36m<module>\u001b[0;34m\u001b[0m\n\u001b[1;32m      4\u001b[0m \u001b[0;32mfor\u001b[0m \u001b[0my\u001b[0m \u001b[0;32min\u001b[0m \u001b[0meighties_soup\u001b[0m \u001b[0;34m:\u001b[0m\u001b[0;34m\u001b[0m\u001b[0;34m\u001b[0m\u001b[0m\n\u001b[1;32m      5\u001b[0m     \u001b[0;32mfor\u001b[0m \u001b[0mi\u001b[0m \u001b[0;32min\u001b[0m \u001b[0mrange\u001b[0m\u001b[0;34m(\u001b[0m\u001b[0;36m10\u001b[0m\u001b[0;34m)\u001b[0m\u001b[0;34m:\u001b[0m\u001b[0;34m\u001b[0m\u001b[0;34m\u001b[0m\u001b[0m\n\u001b[0;32m----> 6\u001b[0;31m         \u001b[0mtop_hits\u001b[0m\u001b[0;34m.\u001b[0m\u001b[0mappend\u001b[0m\u001b[0;34m(\u001b[0m\u001b[0my\u001b[0m\u001b[0;34m[\u001b[0m\u001b[0;36m0\u001b[0m\u001b[0;34m]\u001b[0m\u001b[0;34m.\u001b[0m\u001b[0mfind\u001b[0m\u001b[0;34m(\u001b[0m\u001b[0;34m\"li\"\u001b[0m\u001b[0;34m)\u001b[0m\u001b[0;34m[\u001b[0m\u001b[0mi\u001b[0m\u001b[0;34m]\u001b[0m\u001b[0;34m.\u001b[0m\u001b[0mget_text\u001b[0m\u001b[0;34m(\u001b[0m\u001b[0;34m)\u001b[0m\u001b[0;34m)\u001b[0m\u001b[0;34m\u001b[0m\u001b[0;34m\u001b[0m\u001b[0m\n\u001b[0m\u001b[1;32m      7\u001b[0m \u001b[0mtop_hits\u001b[0m\u001b[0;34m\u001b[0m\u001b[0;34m\u001b[0m\u001b[0m\n\u001b[1;32m      8\u001b[0m \u001b[0;34m\u001b[0m\u001b[0m\n",
      "\u001b[0;32m~/opt/anaconda3/lib/python3.8/site-packages/bs4/element.py\u001b[0m in \u001b[0;36m__getitem__\u001b[0;34m(self, key)\u001b[0m\n\u001b[1;32m   1404\u001b[0m         \"\"\"tag[key] returns the value of the 'key' attribute for the Tag,\n\u001b[1;32m   1405\u001b[0m         and throws an exception if it's not there.\"\"\"\n\u001b[0;32m-> 1406\u001b[0;31m         \u001b[0;32mreturn\u001b[0m \u001b[0mself\u001b[0m\u001b[0;34m.\u001b[0m\u001b[0mattrs\u001b[0m\u001b[0;34m[\u001b[0m\u001b[0mkey\u001b[0m\u001b[0;34m]\u001b[0m\u001b[0;34m\u001b[0m\u001b[0;34m\u001b[0m\u001b[0m\n\u001b[0m\u001b[1;32m   1407\u001b[0m \u001b[0;34m\u001b[0m\u001b[0m\n\u001b[1;32m   1408\u001b[0m     \u001b[0;32mdef\u001b[0m \u001b[0m__iter__\u001b[0m\u001b[0;34m(\u001b[0m\u001b[0mself\u001b[0m\u001b[0;34m)\u001b[0m\u001b[0;34m:\u001b[0m\u001b[0;34m\u001b[0m\u001b[0;34m\u001b[0m\u001b[0m\n",
      "\u001b[0;31mKeyError\u001b[0m: 0"
     ]
    }
   ],
   "source": [
    "top_hits=[]\n",
    "title=[]\n",
    "artist=[]\n",
    "# for y in eighties_soup :\n",
    "#     for i in range(10):\n",
    "#         top_hits.append(y[0].find(\"li\")[i].get_text())\n",
    "# top_hits        \n",
    "\n",
    "\n",
    "# for el in top_hits :\n",
    "#     x = el.split('\\n')\n",
    "#     title.append(el.split('\\n'))\n",
    "\n"
   ]
  }
 ],
 "metadata": {
  "kernelspec": {
   "display_name": "Python 3",
   "language": "python",
   "name": "python3"
  },
  "language_info": {
   "codemirror_mode": {
    "name": "ipython",
    "version": 3
   },
   "file_extension": ".py",
   "mimetype": "text/x-python",
   "name": "python",
   "nbconvert_exporter": "python",
   "pygments_lexer": "ipython3",
   "version": "3.8.8"
  }
 },
 "nbformat": 4,
 "nbformat_minor": 5
}
